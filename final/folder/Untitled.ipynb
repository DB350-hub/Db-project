{
 "cells": [
  {
   "cell_type": "code",
   "execution_count": 2,
   "metadata": {},
   "outputs": [],
   "source": [
    "import sqlite3\n",
    "from tkinter import *\n",
    "from mainpg import *\n",
    "from tkinter import messagebox\n",
    "from tkinter.simpledialog import askstring\n",
    "from tkinter.messagebox import showinfo\n",
    "from tkinter.ttk import *\n",
    "import time\n",
    "import pandas as pd\n",
    "import numpy as np\n",
    "import requests\n",
    "from bs4 import  BeautifulSoup\n",
    "import bs4\n",
    "conn = sqlite3.connect('Database.db')"
   ]
  },
  {
   "cell_type": "code",
   "execution_count": 2,
   "metadata": {},
   "outputs": [],
   "source": [
    "def  price_x(symbol):\n",
    "    r = requests.get('https://finance.yahoo.com/quote/' + symbol + '?p=' + symbol)\n",
    "    soup = bs4.BeautifulSoup(r.text,\"lxml\")\n",
    "    price = soup.find(\"div\",{'class': \"My(6px) Pos(r) smartphone_Mt(6px)\"})\n",
    "    a = price.find(\"span\").text\n",
    "    a= str(a)\n",
    "    flag = False\n",
    "    if ','in a:\n",
    "        pr = a.replace(',' ,'')\n",
    "        return pr\n",
    "    else:\n",
    "        return a"
   ]
  },
  {
   "cell_type": "code",
   "execution_count": 15,
   "metadata": {},
   "outputs": [
    {
     "name": "stdout",
     "output_type": "stream",
     "text": [
      "  symbol  qty  purchase price  curr price  total value  Total gain/loss\n",
      "0   AMZN    2         3116.42     3116.42      6232.84              0.0\n",
      "1     FB    1          273.55      273.55       273.55              0.0\n"
     ]
    }
   ],
   "source": [
    "def TotalValue(user_id):\n",
    "    conn = sqlite3.connect('Database.db')\n",
    "    cur = conn.cursor()\n",
    "    cur.execute(\"\"\"SELECT starting_cash FROM\n",
    "    user_money WHERE user_id = ?\"\"\",(user_id,))\n",
    "    cash = cur.fetchall()\n",
    "    cash =str(cash)\n",
    "    cash = cash.strip(\"([,])\")\n",
    "    cash = float(cash)\n",
    "\n",
    "    cur.execute(\"\"\"SELECT symbol,qty,purchase_price FROM\n",
    "    portfolio WHERE user_id = ?\"\"\",(user_id,))\n",
    "\n",
    "    a =cur.fetchall()\n",
    "    df = pd.DataFrame(a,columns= [\"symbol\",\"qty\",\"purchase price\"])\n",
    "    df[\"curr price\"] = [float(price_x(x)) for x in df.symbol]\n",
    "    x =list()\n",
    "    for i in range(len(df[\"curr price\"])):\n",
    "        x.append((df[\"curr price\"][i]*df[\"qty\"][i]))\n",
    "    f= False\n",
    "    df [\"total value\"] = x\n",
    "    y =list()\n",
    "    for i in range(len(x)):\n",
    "        s = (df [\"total value\"][i]) - (df[\"qty\"][i] * df[\"purchase price\"][i])\n",
    "        y.append(s)\n",
    "    df [\"Total gain/loss\"] = y\n",
    "    return df\n",
    "print(TotalValue(\"Yousuf\"))"
   ]
  },
  {
   "cell_type": "code",
   "execution_count": 2,
   "metadata": {},
   "outputs": [],
   "source": [
    "import matplotlib.pyplot as plt\n",
    "%matplotlib inline"
   ]
  },
  {
   "cell_type": "code",
   "execution_count": 23,
   "metadata": {},
   "outputs": [
    {
     "data": {
      "image/png": "[encoded data removed]",
      "text/plain": [
       "<Figure size 432x288 with 1 Axes>"
      ]
     },
     "metadata": {
      "needs_background": "light"
     },
     "output_type": "display_data"
    }
   ],
   "source": [
    "def plot(user_id):\n",
    "    cur = conn.cursor()\n",
    "    cur.execute(\"\"\"SELECT return FROM\n",
    "    user_return WHERE user_id = ?\"\"\",(user_id,))\n",
    "    ret = cur.fetchall()\n",
    "    ret =str(ret)\n",
    "    ret = ret.strip(\"([,])\")\n",
    "    ret = float(ret)\n",
    "    cur.execute(\"\"\"SELECT change FROM\n",
    "    dashboard WHERE Indx = ?\"\"\",(\"^GSPC\",))\n",
    "    val = cur.fetchall()\n",
    "    val =str(val)\n",
    "    val = val.strip(\"([,])\")\n",
    "    val = float(val)\n",
    "    data = {\"S&P500\":val,\"Porfolio\":ret}\n",
    "    x= list(data.keys())\n",
    "    y= list(data.values())\n",
    "    plt.figsize = (5,4)\n",
    "    plt.title(\"Performance of the porfolio relative to the S&P 500\")\n",
    "    plt.ylabel(\"percentage change\")\n",
    "    plt.bar(x,y,color =['purple',\"yellow\"],  \n",
    "        width = 0.2)\n",
    "    plt.show()\n",
    "plot(\"Yousuf\")"
   ]
  },
  {
   "cell_type": "code",
   "execution_count": 19,
   "metadata": {},
   "outputs": [
    {
     "data": {
      "text/plain": [
       "0      2000-12-13\n",
       "1      2000-12-14\n",
       "2      2000-12-15\n",
       "3      2000-12-18\n",
       "4      2000-12-19\n",
       "          ...    \n",
       "5026   2020-12-07\n",
       "5027   2020-12-08\n",
       "5028   2020-12-09\n",
       "5029   2020-12-10\n",
       "5030   2020-12-11\n",
       "Name: Date, Length: 5031, dtype: datetime64[ns]"
      ]
     },
     "execution_count": 19,
     "metadata": {},
     "output_type": "execute_result"
    }
   ],
   "source": [
    "SnP = pd.read_csv(\"^GSPC.csv\")\n",
    "pd.to_datetime(SnP[\"Date\"])"
   ]
  },
  {
   "cell_type": "code",
   "execution_count": 20,
   "metadata": {},
   "outputs": [
    {
     "data": {
      "text/plain": [
       "0      2000-12-13\n",
       "1      2000-12-14\n",
       "2      2000-12-15\n",
       "3      2000-12-18\n",
       "4      2000-12-19\n",
       "          ...    \n",
       "5026   2020-12-07\n",
       "5027   2020-12-08\n",
       "5028   2020-12-09\n",
       "5029   2020-12-10\n",
       "5030   2020-12-11\n",
       "Name: Date, Length: 5031, dtype: datetime64[ns]"
      ]
     },
     "execution_count": 20,
     "metadata": {},
     "output_type": "execute_result"
    }
   ],
   "source": [
    "NDQ = pd.read_csv(\"^IXIC.csv\")\n",
    "pd.to_datetime(NDQ[\"Date\"])"
   ]
  },
  {
   "cell_type": "code",
   "execution_count": 21,
   "metadata": {},
   "outputs": [
    {
     "data": {
      "text/plain": [
       "0      2000-12-13\n",
       "1      2000-12-14\n",
       "2      2000-12-15\n",
       "3      2000-12-18\n",
       "4      2000-12-19\n",
       "          ...    \n",
       "5026   2020-12-07\n",
       "5027   2020-12-08\n",
       "5028   2020-12-09\n",
       "5029   2020-12-10\n",
       "5030   2020-12-11\n",
       "Name: Date, Length: 5030, dtype: datetime64[ns]"
      ]
     },
     "execution_count": 21,
     "metadata": {},
     "output_type": "execute_result"
    }
   ],
   "source": [
    "R = pd.read_csv(\"^RUT.csv\")\n",
    "R.dropna(inplace=True)\n",
    "pd.to_datetime(R[\"Date\"])"
   ]
  },
  {
   "cell_type": "code",
   "execution_count": 15,
   "metadata": {},
   "outputs": [
    {
     "data": {
      "text/plain": [
       "Index(['Date', 'Open', 'High', 'Low', 'Close', 'Adj Close', 'Volume'], dtype='object')"
      ]
     },
     "execution_count": 15,
     "metadata": {},
     "output_type": "execute_result"
    }
   ],
   "source": [
    "R.columns"
   ]
  },
  {
   "cell_type": "code",
   "execution_count": 24,
   "metadata": {},
   "outputs": [],
   "source": [
    "cur = conn.cursor()\n",
    "for i in range(5030):\n",
    "    cur.execute(\"\"\"INSERT into snp500 values(?,?,?,?,?,?)\"\"\",(SnP[\"Date\"][i],SnP[\"Open\"][i],\n",
    "    SnP[\"High\"][i],SnP[\"Low\"][i],SnP[\"Adj Close\"][i],SnP[\"Volume\"][i]))\n",
    "    conn.commit()"
   ]
  },
  {
   "cell_type": "code",
   "execution_count": 25,
   "metadata": {},
   "outputs": [
    {
     "ename": "KeyError",
     "evalue": "4981",
     "output_type": "error",
     "traceback": [
      "\u001b[0;31m---------------------------------------------------------------------------\u001b[0m",
      "\u001b[0;31mKeyError\u001b[0m                                  Traceback (most recent call last)",
      "\u001b[0;32m~/.local/lib/python3.7/site-packages/pandas/core/indexes/base.py\u001b[0m in \u001b[0;36mget_loc\u001b[0;34m(self, key, method, tolerance)\u001b[0m\n\u001b[1;32m   2890\u001b[0m             \u001b[0;32mtry\u001b[0m\u001b[0;34m:\u001b[0m\u001b[0;34m\u001b[0m\u001b[0;34m\u001b[0m\u001b[0m\n\u001b[0;32m-> 2891\u001b[0;31m                 \u001b[0;32mreturn\u001b[0m \u001b[0mself\u001b[0m\u001b[0;34m.\u001b[0m\u001b[0m_engine\u001b[0m\u001b[0;34m.\u001b[0m\u001b[0mget_loc\u001b[0m\u001b[0;34m(\u001b[0m\u001b[0mcasted_key\u001b[0m\u001b[0;34m)\u001b[0m\u001b[0;34m\u001b[0m\u001b[0;34m\u001b[0m\u001b[0m\n\u001b[0m\u001b[1;32m   2892\u001b[0m             \u001b[0;32mexcept\u001b[0m \u001b[0mKeyError\u001b[0m \u001b[0;32mas\u001b[0m \u001b[0merr\u001b[0m\u001b[0;34m:\u001b[0m\u001b[0;34m\u001b[0m\u001b[0;34m\u001b[0m\u001b[0m\n",
      "\u001b[0;32mpandas/_libs/index.pyx\u001b[0m in \u001b[0;36mpandas._libs.index.IndexEngine.get_loc\u001b[0;34m()\u001b[0m\n",
      "\u001b[0;32mpandas/_libs/index.pyx\u001b[0m in \u001b[0;36mpandas._libs.index.IndexEngine.get_loc\u001b[0;34m()\u001b[0m\n",
      "\u001b[0;32mpandas/_libs/hashtable_class_helper.pxi\u001b[0m in \u001b[0;36mpandas._libs.hashtable.Int64HashTable.get_item\u001b[0;34m()\u001b[0m\n",
      "\u001b[0;32mpandas/_libs/hashtable_class_helper.pxi\u001b[0m in \u001b[0;36mpandas._libs.hashtable.Int64HashTable.get_item\u001b[0;34m()\u001b[0m\n",
      "\u001b[0;31mKeyError\u001b[0m: 4981",
      "\nThe above exception was the direct cause of the following exception:\n",
      "\u001b[0;31mKeyError\u001b[0m                                  Traceback (most recent call last)",
      "\u001b[0;32m<ipython-input-25-895988d39040>\u001b[0m in \u001b[0;36m<module>\u001b[0;34m\u001b[0m\n\u001b[1;32m      1\u001b[0m \u001b[0mcur\u001b[0m \u001b[0;34m=\u001b[0m \u001b[0mconn\u001b[0m\u001b[0;34m.\u001b[0m\u001b[0mcursor\u001b[0m\u001b[0;34m(\u001b[0m\u001b[0;34m)\u001b[0m\u001b[0;34m\u001b[0m\u001b[0;34m\u001b[0m\u001b[0m\n\u001b[1;32m      2\u001b[0m \u001b[0;32mfor\u001b[0m \u001b[0mi\u001b[0m \u001b[0;32min\u001b[0m \u001b[0mrange\u001b[0m\u001b[0;34m(\u001b[0m\u001b[0;36m5030\u001b[0m\u001b[0;34m)\u001b[0m\u001b[0;34m:\u001b[0m\u001b[0;34m\u001b[0m\u001b[0;34m\u001b[0m\u001b[0m\n\u001b[0;32m----> 3\u001b[0;31m     cur.execute(\"\"\"INSERT into russell2000 values(?,?,?,?,?,?)\"\"\",(R[\"Date\"][i],R[\"Open\"][i],\n\u001b[0m\u001b[1;32m      4\u001b[0m     R[\"High\"][i],R[\"Low\"][i],R[\"Adj Close\"][i],R[\"Volume\"][i]))\n\u001b[1;32m      5\u001b[0m     \u001b[0mconn\u001b[0m\u001b[0;34m.\u001b[0m\u001b[0mcommit\u001b[0m\u001b[0;34m(\u001b[0m\u001b[0;34m)\u001b[0m\u001b[0;34m\u001b[0m\u001b[0;34m\u001b[0m\u001b[0m\n",
      "\u001b[0;32m~/.local/lib/python3.7/site-packages/pandas/core/series.py\u001b[0m in \u001b[0;36m__getitem__\u001b[0;34m(self, key)\u001b[0m\n\u001b[1;32m    880\u001b[0m \u001b[0;34m\u001b[0m\u001b[0m\n\u001b[1;32m    881\u001b[0m         \u001b[0;32melif\u001b[0m \u001b[0mkey_is_scalar\u001b[0m\u001b[0;34m:\u001b[0m\u001b[0;34m\u001b[0m\u001b[0;34m\u001b[0m\u001b[0m\n\u001b[0;32m--> 882\u001b[0;31m             \u001b[0;32mreturn\u001b[0m \u001b[0mself\u001b[0m\u001b[0;34m.\u001b[0m\u001b[0m_get_value\u001b[0m\u001b[0;34m(\u001b[0m\u001b[0mkey\u001b[0m\u001b[0;34m)\u001b[0m\u001b[0;34m\u001b[0m\u001b[0;34m\u001b[0m\u001b[0m\n\u001b[0m\u001b[1;32m    883\u001b[0m \u001b[0;34m\u001b[0m\u001b[0m\n\u001b[1;32m    884\u001b[0m         if (\n",
      "\u001b[0;32m~/.local/lib/python3.7/site-packages/pandas/core/series.py\u001b[0m in \u001b[0;36m_get_value\u001b[0;34m(self, label, takeable)\u001b[0m\n\u001b[1;32m    989\u001b[0m \u001b[0;34m\u001b[0m\u001b[0m\n\u001b[1;32m    990\u001b[0m         \u001b[0;31m# Similar to Index.get_value, but we do not fall back to positional\u001b[0m\u001b[0;34m\u001b[0m\u001b[0;34m\u001b[0m\u001b[0;34m\u001b[0m\u001b[0m\n\u001b[0;32m--> 991\u001b[0;31m         \u001b[0mloc\u001b[0m \u001b[0;34m=\u001b[0m \u001b[0mself\u001b[0m\u001b[0;34m.\u001b[0m\u001b[0mindex\u001b[0m\u001b[0;34m.\u001b[0m\u001b[0mget_loc\u001b[0m\u001b[0;34m(\u001b[0m\u001b[0mlabel\u001b[0m\u001b[0;34m)\u001b[0m\u001b[0;34m\u001b[0m\u001b[0;34m\u001b[0m\u001b[0m\n\u001b[0m\u001b[1;32m    992\u001b[0m         \u001b[0;32mreturn\u001b[0m \u001b[0mself\u001b[0m\u001b[0;34m.\u001b[0m\u001b[0mindex\u001b[0m\u001b[0;34m.\u001b[0m\u001b[0m_get_values_for_loc\u001b[0m\u001b[0;34m(\u001b[0m\u001b[0mself\u001b[0m\u001b[0;34m,\u001b[0m \u001b[0mloc\u001b[0m\u001b[0;34m,\u001b[0m \u001b[0mlabel\u001b[0m\u001b[0;34m)\u001b[0m\u001b[0;34m\u001b[0m\u001b[0;34m\u001b[0m\u001b[0m\n\u001b[1;32m    993\u001b[0m \u001b[0;34m\u001b[0m\u001b[0m\n",
      "\u001b[0;32m~/.local/lib/python3.7/site-packages/pandas/core/indexes/base.py\u001b[0m in \u001b[0;36mget_loc\u001b[0;34m(self, key, method, tolerance)\u001b[0m\n\u001b[1;32m   2891\u001b[0m                 \u001b[0;32mreturn\u001b[0m \u001b[0mself\u001b[0m\u001b[0;34m.\u001b[0m\u001b[0m_engine\u001b[0m\u001b[0;34m.\u001b[0m\u001b[0mget_loc\u001b[0m\u001b[0;34m(\u001b[0m\u001b[0mcasted_key\u001b[0m\u001b[0;34m)\u001b[0m\u001b[0;34m\u001b[0m\u001b[0;34m\u001b[0m\u001b[0m\n\u001b[1;32m   2892\u001b[0m             \u001b[0;32mexcept\u001b[0m \u001b[0mKeyError\u001b[0m \u001b[0;32mas\u001b[0m \u001b[0merr\u001b[0m\u001b[0;34m:\u001b[0m\u001b[0;34m\u001b[0m\u001b[0;34m\u001b[0m\u001b[0m\n\u001b[0;32m-> 2893\u001b[0;31m                 \u001b[0;32mraise\u001b[0m \u001b[0mKeyError\u001b[0m\u001b[0;34m(\u001b[0m\u001b[0mkey\u001b[0m\u001b[0;34m)\u001b[0m \u001b[0;32mfrom\u001b[0m \u001b[0merr\u001b[0m\u001b[0;34m\u001b[0m\u001b[0;34m\u001b[0m\u001b[0m\n\u001b[0m\u001b[1;32m   2894\u001b[0m \u001b[0;34m\u001b[0m\u001b[0m\n\u001b[1;32m   2895\u001b[0m         \u001b[0;32mif\u001b[0m \u001b[0mtolerance\u001b[0m \u001b[0;32mis\u001b[0m \u001b[0;32mnot\u001b[0m \u001b[0;32mNone\u001b[0m\u001b[0;34m:\u001b[0m\u001b[0;34m\u001b[0m\u001b[0;34m\u001b[0m\u001b[0m\n",
      "\u001b[0;31mKeyError\u001b[0m: 4981"
     ]
    }
   ],
   "source": [
    "cur = conn.cursor()\n",
    "for i in range(5030):\n",
    "    cur.execute(\"\"\"INSERT into russell2000 values(?,?,?,?,?,?)\"\"\",(R[\"Date\"][i],R[\"Open\"][i],\n",
    "    R[\"High\"][i],R[\"Low\"][i],R[\"Adj Close\"][i],R[\"Volume\"][i]))\n",
    "    conn.commit()"
   ]
  },
  {
   "cell_type": "code",
   "execution_count": 28,
   "metadata": {},
   "outputs": [],
   "source": [
    "cur = conn.cursor()\n",
    "for i in range(5030):\n",
    "    cur.execute(\"\"\"INSERT into nasdaq values(?,?,?,?,?,?)\"\"\",(NDQ[\"Date\"][i],NDQ[\"Open\"][i],\n",
    "    NDQ[\"High\"][i],NDQ[\"Low\"][i],NDQ[\"Adj Close\"][i],NDQ[\"Volume\"][i]))\n",
    "    conn.commit()"
   ]
  },
  {
   "cell_type": "code",
   "execution_count": 26,
   "metadata": {},
   "outputs": [
    {
     "data": {
      "text/plain": [
       "(5030, 7)"
      ]
     },
     "execution_count": 26,
     "metadata": {},
     "output_type": "execute_result"
    }
   ],
   "source": [
    "R"
   ]
  },
  {
   "cell_type": "code",
   "execution_count": 27,
   "metadata": {},
   "outputs": [
    {
     "data": {
      "text/plain": [
       "(5031, 7)"
      ]
     },
     "execution_count": 27,
     "metadata": {},
     "output_type": "execute_result"
    }
   ],
   "source": [
    "NDQ.shape"
   ]
  },
  {
   "cell_type": "code",
   "execution_count": null,
   "metadata": {},
   "outputs": [],
   "source": [
    ".shape"
   ]
  }
 ],
 "metadata": {
  "kernelspec": {
   "display_name": "Python 3",
   "language": "python",
   "name": "python3"
  },
  "language_info": {
   "codemirror_mode": {
    "name": "ipython",
    "version": 3
   },
   "file_extension": ".py",
   "mimetype": "text/x-python",
   "name": "python",
   "nbconvert_exporter": "python",
   "pygments_lexer": "ipython3",
   "version": "3.7.5"
  }
 },
 "nbformat": 4,
 "nbformat_minor": 4
}
